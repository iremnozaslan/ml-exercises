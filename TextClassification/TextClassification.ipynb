{
 "cells": [
  {
   "cell_type": "code",
   "execution_count": 1,
   "metadata": {},
   "outputs": [],
   "source": [
    "import pandas as pd"
   ]
  },
  {
   "cell_type": "code",
   "execution_count": 2,
   "metadata": {},
   "outputs": [
    {
     "data": {
      "text/html": "<div>\n<style scoped>\n    .dataframe tbody tr th:only-of-type {\n        vertical-align: middle;\n    }\n\n    .dataframe tbody tr th {\n        vertical-align: top;\n    }\n\n    .dataframe thead th {\n        text-align: right;\n    }\n</style>\n<table border=\"1\" class=\"dataframe\">\n  <thead>\n    <tr style=\"text-align: right;\">\n      <th></th>\n      <th>Sentence</th>\n      <th>NegPos</th>\n    </tr>\n  </thead>\n  <tbody>\n    <tr>\n      <th>0</th>\n      <td>I received the product within the cargo delive...</td>\n      <td>0</td>\n    </tr>\n    <tr>\n      <th>1</th>\n      <td>I started using it on the first day I received...</td>\n      <td>0</td>\n    </tr>\n    <tr>\n      <th>2</th>\n      <td>Is a thin ssd disk put in a3 envelope? This is...</td>\n      <td>0</td>\n    </tr>\n    <tr>\n      <th>3</th>\n      <td>The product is written in Korea and the produc...</td>\n      <td>0</td>\n    </tr>\n    <tr>\n      <th>4</th>\n      <td>Although I bought it with great enthusiasm, th...</td>\n      <td>0</td>\n    </tr>\n    <tr>\n      <th>5</th>\n      <td>Beautiful tablet with price, performance and a...</td>\n      <td>1</td>\n    </tr>\n    <tr>\n      <th>6</th>\n      <td>Nice price / performance product I am very sat...</td>\n      <td>1</td>\n    </tr>\n    <tr>\n      <th>7</th>\n      <td>I bought it for my Macbook Pro mid 2012 comput...</td>\n      <td>1</td>\n    </tr>\n    <tr>\n      <th>8</th>\n      <td>Windows 10 took 1 minute to install from scrat...</td>\n      <td>1</td>\n    </tr>\n    <tr>\n      <th>9</th>\n      <td>The computer is 5 times faster than I bought i...</td>\n      <td>1</td>\n    </tr>\n  </tbody>\n</table>\n</div>",
      "text/plain": "                                            Sentence  NegPos\n0  I received the product within the cargo delive...       0\n1  I started using it on the first day I received...       0\n2  Is a thin ssd disk put in a3 envelope? This is...       0\n3  The product is written in Korea and the produc...       0\n4  Although I bought it with great enthusiasm, th...       0\n5  Beautiful tablet with price, performance and a...       1\n6  Nice price / performance product I am very sat...       1\n7  I bought it for my Macbook Pro mid 2012 comput...       1\n8  Windows 10 took 1 minute to install from scrat...       1\n9  The computer is 5 times faster than I bought i...       1"
     },
     "execution_count": 2,
     "metadata": {},
     "output_type": "execute_result"
    }
   ],
   "source": [
    "df = pd.read_csv('C:/Users/iremn/OneDrive/Masaüstü\\DataScienceExercises/TextClassification/data.csv')\r\n",
    "df"
   ]
  },
  {
   "cell_type": "markdown",
   "metadata": {},
   "source": [
    "Seperating sentences from NegPos"
   ]
  },
  {
   "cell_type": "code",
   "execution_count": 3,
   "metadata": {},
   "outputs": [],
   "source": [
    "sentences_training = [doc for doc in df.iloc[:,0]] #all rows just sentences\r\n",
    "classification_training = [doc for doc in df.iloc[:,1]] #all rows just negpos"
   ]
  },
  {
   "cell_type": "markdown",
   "metadata": {},
   "source": [
    "Since computers don't understand 'words', we need to convert them into numerical value"
   ]
  },
  {
   "cell_type": "code",
   "execution_count": 4,
   "metadata": {},
   "outputs": [],
   "source": [
    "from sklearn.feature_extraction.text import TfidfVectorizer\r\n",
    "vectorizer = TfidfVectorizer(analyzer='word', lowercase=True)"
   ]
  },
  {
   "cell_type": "code",
   "execution_count": 5,
   "metadata": {},
   "outputs": [],
   "source": [
    "sen_train_vector = vectorizer.fit_transform(sentences_training)"
   ]
  },
  {
   "cell_type": "markdown",
   "metadata": {},
   "source": [
    "sen_train_vector is an tuple, convert it to matrix"
   ]
  },
  {
   "cell_type": "code",
   "execution_count": 6,
   "metadata": {},
   "outputs": [
    {
     "data": {
      "text/plain": "array([[0.        , 0.        , 0.        , ..., 0.        , 0.        ,\n        0.        ],\n       [0.        , 0.        , 0.        , ..., 0.        , 0.        ,\n        0.        ],\n       [0.        , 0.        , 0.        , ..., 0.        , 0.        ,\n        0.        ],\n       ...,\n       [0.        , 0.17260052, 0.        , ..., 0.        , 0.        ,\n        0.        ],\n       [0.21629605, 0.        , 0.21629605, ..., 0.        , 0.18387141,\n        0.        ],\n       [0.        , 0.        , 0.        , ..., 0.        , 0.115267  ,\n        0.27118733]])"
     },
     "execution_count": 6,
     "metadata": {},
     "output_type": "execute_result"
    }
   ],
   "source": [
    "sen_train_vector = sen_train_vector.toarray()\r\n",
    "sen_train_vector"
   ]
  },
  {
   "cell_type": "markdown",
   "metadata": {},
   "source": [
    "Now, we have an appropriate data to apply classification methods. \r\n",
    "Using a known method : Naive Bayes "
   ]
  },
  {
   "cell_type": "code",
   "execution_count": 7,
   "metadata": {},
   "outputs": [],
   "source": [
    "from sklearn.naive_bayes import GaussianNB\r\n",
    "clf = GaussianNB()\r\n",
    "model = clf.fit(X = sen_train_vector, y=classification_training)"
   ]
  },
  {
   "cell_type": "markdown",
   "metadata": {},
   "source": [
    "The model is ready. It is time to make predictions"
   ]
  },
  {
   "cell_type": "code",
   "execution_count": 15,
   "metadata": {},
   "outputs": [
    {
     "data": {
      "text/plain": "array([1])"
     },
     "execution_count": 15,
     "metadata": {},
     "output_type": "execute_result"
    }
   ],
   "source": [
    "sen_test_vector = vectorizer.transform(['Beautiful prices'])\r\n",
    "y_pred = model.predict(sen_test_vector.toarray())\r\n",
    "y_pred"
   ]
  },
  {
   "cell_type": "code",
   "execution_count": 16,
   "metadata": {},
   "outputs": [
    {
     "data": {
      "text/plain": "array([0])"
     },
     "execution_count": 16,
     "metadata": {},
     "output_type": "execute_result"
    }
   ],
   "source": [
    "sen_test_vector = vectorizer.transform(['I will return it'])\r\n",
    "y_pred = model.predict(sen_test_vector.toarray())\r\n",
    "y_pred"
   ]
  }
 ],
 "metadata": {
  "kernelspec": {
   "display_name": "Python 3.8.3 64-bit (conda)",
   "metadata": {
    "interpreter": {
     "hash": "f3ce92147ffce6f9b60275b69f8008e66b84d8616d5b42e71eeb32b279c1dddd"
    }
   },
   "name": "python3"
  },
  "language_info": {
   "codemirror_mode": {
    "name": "ipython",
    "version": 3
   },
   "file_extension": ".py",
   "mimetype": "text/x-python",
   "name": "python",
   "nbconvert_exporter": "python",
   "pygments_lexer": "ipython3",
   "version": "3.8.3"
  },
  "orig_nbformat": 2
 },
 "nbformat": 4,
 "nbformat_minor": 2
}