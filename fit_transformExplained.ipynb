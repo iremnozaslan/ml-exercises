{
 "cells": [
  {
   "cell_type": "code",
   "execution_count": 2,
   "metadata": {},
   "outputs": [
    {
     "name": "stdout",
     "output_type": "stream",
     "text": [
      "temperature:\n",
      " [[32. nan 28.]\n",
      " [nan 32. nan]\n",
      " [nan 34. 40.]]\n",
      "windspeed:\n",
      " [[ 6.  9. nan]\n",
      " [ 7. nan nan]\n",
      " [nan  8. 12.]]\n"
     ]
    }
   ],
   "source": [
    "import numpy as np\r\n",
    "from sklearn.impute import SimpleImputer\r\n",
    "imp = SimpleImputer(missing_values=np.nan, strategy='mean')\r\n",
    "#imputes the missing values with the requested filling\r\n",
    "temperature = [32., np.nan, 28., np.nan, 32., np.nan, np.nan, 34., 40.]\r\n",
    "windspeed  = [ 6.,  9., np.nan,  7., np.nan, np.nan, np.nan,  8., 12.]\r\n",
    "n_arr_1 = np.array(temperature).reshape(3,3)\r\n",
    "print('temperature:\\n',n_arr_1)\r\n",
    "n_arr_2 = np.array(windspeed).reshape(3,3)\r\n",
    "print('windspeed:\\n',n_arr_2)"
   ]
  },
  {
   "cell_type": "markdown",
   "metadata": {},
   "source": [
    "When we have two Arrays with different elements we use 'fit' and transform\r\n",
    "separately, we fit 'array 1' base on its internal function such as in \r\n",
    "MinMaxScaler (internal function is to find mean and standard deviation).\r\n",
    "For example, if we fit 'array 1' based on its mean and transform array 2,\r\n",
    "then the mean of array 1 will be applied to array 2 which we transformed.\r\n",
    "In simple words, we transform one array on the basic internal functions of\r\n",
    "another array."
   ]
  },
  {
   "cell_type": "markdown",
   "metadata": {},
   "source": [
    "fit and transform seperatly, transforming array 2 for fitted (based on mean) array 1;"
   ]
  },
  {
   "cell_type": "code",
   "execution_count": 3,
   "metadata": {},
   "outputs": [
    {
     "data": {
      "text/plain": "array([[ 6.,  9., 34.],\n       [ 7., 33., 34.],\n       [32.,  8., 12.]])"
     },
     "execution_count": 3,
     "metadata": {},
     "output_type": "execute_result"
    }
   ],
   "source": [
    "imp.fit(n_arr_1)\r\n",
    "imp.transform(n_arr_2)"
   ]
  },
  {
   "cell_type": "markdown",
   "metadata": {},
   "source": [
    "Basically, on Array 1 it is taking mean of every column and fitting in array 2 according to its column where ever missing value is missed."
   ]
  },
  {
   "cell_type": "markdown",
   "metadata": {},
   "source": [
    "Basically, on Array 1 it is taking mean of every column and fitting in array 2 according to its column where ever missing value is missed."
   ]
  },
  {
   "cell_type": "code",
   "execution_count": 4,
   "metadata": {},
   "outputs": [
    {
     "data": {
      "text/plain": "array([[ 6. ,  9. , 12. ],\n       [ 7. ,  8.5, 12. ],\n       [ 6.5,  8. , 12. ]])"
     },
     "execution_count": 4,
     "metadata": {},
     "output_type": "execute_result"
    }
   ],
   "source": [
    "imp.fit_transform(n_arr_2)"
   ]
  }
 ],
 "metadata": {
  "kernelspec": {
   "display_name": "Python 3.8.3 64-bit (conda)",
   "metadata": {
    "interpreter": {
     "hash": "f3ce92147ffce6f9b60275b69f8008e66b84d8616d5b42e71eeb32b279c1dddd"
    }
   },
   "name": "python3"
  },
  "language_info": {
   "codemirror_mode": {
    "name": "ipython",
    "version": 3
   },
   "file_extension": ".py",
   "mimetype": "text/x-python",
   "name": "python",
   "nbconvert_exporter": "python",
   "pygments_lexer": "ipython3",
   "version": "3.8.3"
  },
  "orig_nbformat": 2
 },
 "nbformat": 4,
 "nbformat_minor": 2
}